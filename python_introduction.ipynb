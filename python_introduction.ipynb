{
  "nbformat": 4,
  "nbformat_minor": 0,
  "metadata": {
    "colab": {
      "provenance": [],
      "authorship_tag": "ABX9TyMr0tc3YZsLW+5ZzfvJ6HD6",
      "include_colab_link": true
    },
    "kernelspec": {
      "name": "python3",
      "display_name": "Python 3"
    },
    "language_info": {
      "name": "python"
    },
    "gpuClass": "standard"
  },
  "cells": [
    {
      "cell_type": "markdown",
      "metadata": {
        "id": "view-in-github",
        "colab_type": "text"
      },
      "source": [
        "<a href=\"https://colab.research.google.com/github/dilaraesmer/Exploratory-Data-Analysis-/blob/main/python_introduction.ipynb\" target=\"_parent\"><img src=\"https://colab.research.google.com/assets/colab-badge.svg\" alt=\"Open In Colab\"/></a>"
      ]
    },
    {
      "cell_type": "markdown",
      "source": [
        "Syntax Overview"
      ],
      "metadata": {
        "id": "_cNqIF5kWbi1"
      }
    },
    {
      "cell_type": "code",
      "source": [
        "language = \"Python\"\n",
        "\n",
        "if language == \"Python\":\n",
        "  print(\"Let the fun begin!\")\n",
        "  if language.endswith('3'):\n",
        "    print(\"Pyt3\")\n",
        "else:\n",
        "     print(\"You sure?\")"
      ],
      "metadata": {
        "colab": {
          "base_uri": "https://localhost:8080/"
        },
        "id": "XX4WQ0MoYOOl",
        "outputId": "178a0a4d-af17-4c54-843d-ae53ff7fad03"
      },
      "execution_count": 12,
      "outputs": [
        {
          "output_type": "stream",
          "name": "stdout",
          "text": [
            "Let the fun begin!\n"
          ]
        }
      ]
    },
    {
      "cell_type": "markdown",
      "source": [
        "Comments"
      ],
      "metadata": {
        "id": "4dHhCexSaQd0"
      }
    },
    {
      "cell_type": "code",
      "source": [
        "# this is  a comment"
      ],
      "metadata": {
        "id": "5o7F8u-nZPzC"
      },
      "execution_count": 13,
      "outputs": []
    },
    {
      "cell_type": "code",
      "source": [
        "# it doesn't produce any output"
      ],
      "metadata": {
        "id": "8jKdrAHJaWqq"
      },
      "execution_count": 14,
      "outputs": []
    },
    {
      "cell_type": "markdown",
      "source": [
        "Variables"
      ],
      "metadata": {
        "id": "kLfCZDSEairC"
      }
    },
    {
      "cell_type": "code",
      "source": [
        "name = \"Deniz\"\n",
        "print(name)"
      ],
      "metadata": {
        "colab": {
          "base_uri": "https://localhost:8080/"
        },
        "id": "X9N-yEV5atXM",
        "outputId": "3265d671-cc02-45a4-9c70-fff0892e9e20"
      },
      "execution_count": 15,
      "outputs": [
        {
          "output_type": "stream",
          "name": "stdout",
          "text": [
            "Deniz\n"
          ]
        }
      ]
    },
    {
      "cell_type": "code",
      "source": [
        "age = 24\n",
        "print(age)"
      ],
      "metadata": {
        "colab": {
          "base_uri": "https://localhost:8080/"
        },
        "id": "4p4SIe6ea5Oy",
        "outputId": "1f985d7b-c885-4982-c37b-e401b9f4c58e"
      },
      "execution_count": 16,
      "outputs": [
        {
          "output_type": "stream",
          "name": "stdout",
          "text": [
            "24\n"
          ]
        }
      ]
    },
    {
      "cell_type": "markdown",
      "source": [
        "Variables, once set, will be preserved:"
      ],
      "metadata": {
        "id": "wYbf2EbubAzz"
      }
    },
    {
      "cell_type": "code",
      "source": [
        "print(name, \"is\", age, \"years old\")"
      ],
      "metadata": {
        "colab": {
          "base_uri": "https://localhost:8080/"
        },
        "id": "5YKL4BbCbJGe",
        "outputId": "0019e57e-38f6-4d01-c6d1-4d3f1d6b129b"
      },
      "execution_count": 17,
      "outputs": [
        {
          "output_type": "stream",
          "name": "stdout",
          "text": [
            "Deniz is 24 years old\n"
          ]
        }
      ]
    },
    {
      "cell_type": "markdown",
      "source": [
        "Data Types"
      ],
      "metadata": {
        "id": "tyDhiZ9XbZeL"
      }
    },
    {
      "cell_type": "markdown",
      "source": [
        "Integers, type int:"
      ],
      "metadata": {
        "id": "lGkO2G6gbf_a"
      }
    },
    {
      "cell_type": "code",
      "source": [
        "# an int \n",
        "age = 24"
      ],
      "metadata": {
        "id": "S_Ol0v7XbS4j"
      },
      "execution_count": 18,
      "outputs": []
    },
    {
      "cell_type": "code",
      "source": [
        "age"
      ],
      "metadata": {
        "colab": {
          "base_uri": "https://localhost:8080/"
        },
        "id": "tOtL0W9xbrk4",
        "outputId": "d9f6a504-5c90-46a1-dd62-7b2e0dc0e803"
      },
      "execution_count": 19,
      "outputs": [
        {
          "output_type": "execute_result",
          "data": {
            "text/plain": [
              "24"
            ]
          },
          "metadata": {},
          "execution_count": 19
        }
      ]
    },
    {
      "cell_type": "code",
      "source": [
        "type(age)"
      ],
      "metadata": {
        "colab": {
          "base_uri": "https://localhost:8080/"
        },
        "id": "-QfEv77jbuPI",
        "outputId": "0e4b0d81-a6bd-4f7c-a693-821515e59b36"
      },
      "execution_count": 20,
      "outputs": [
        {
          "output_type": "execute_result",
          "data": {
            "text/plain": [
              "int"
            ]
          },
          "metadata": {},
          "execution_count": 20
        }
      ]
    },
    {
      "cell_type": "markdown",
      "source": [
        "Foats, type float:"
      ],
      "metadata": {
        "id": "5jBgHNDRby9L"
      }
    },
    {
      "cell_type": "code",
      "source": [
        "# a float \n",
        "price = 8.25"
      ],
      "metadata": {
        "id": "BdJ0jBaebw86"
      },
      "execution_count": 22,
      "outputs": []
    },
    {
      "cell_type": "code",
      "source": [
        "price"
      ],
      "metadata": {
        "colab": {
          "base_uri": "https://localhost:8080/"
        },
        "id": "eONAM8gqe2UG",
        "outputId": "f244d253-12e9-43e7-d35f-06f97603105c"
      },
      "execution_count": 23,
      "outputs": [
        {
          "output_type": "execute_result",
          "data": {
            "text/plain": [
              "8.25"
            ]
          },
          "metadata": {},
          "execution_count": 23
        }
      ]
    },
    {
      "cell_type": "code",
      "source": [
        "type(price)"
      ],
      "metadata": {
        "colab": {
          "base_uri": "https://localhost:8080/"
        },
        "id": "u68SWOl4e426",
        "outputId": "4ae5a30f-47b2-4545-f9a9-c3286f027445"
      },
      "execution_count": 24,
      "outputs": [
        {
          "output_type": "execute_result",
          "data": {
            "text/plain": [
              "float"
            ]
          },
          "metadata": {},
          "execution_count": 24
        }
      ]
    },
    {
      "cell_type": "code",
      "source": [
        "0.1 * price"
      ],
      "metadata": {
        "colab": {
          "base_uri": "https://localhost:8080/"
        },
        "id": "_wMf0UodfEI3",
        "outputId": "1ab8e336-b206-4c31-de19-f0c505b38e8b"
      },
      "execution_count": 25,
      "outputs": [
        {
          "output_type": "execute_result",
          "data": {
            "text/plain": [
              "0.8250000000000001"
            ]
          },
          "metadata": {},
          "execution_count": 25
        }
      ]
    },
    {
      "cell_type": "markdown",
      "source": [
        "If you need to decimal import Decimal"
      ],
      "metadata": {
        "id": "_Vx-gIjRfN2K"
      }
    },
    {
      "cell_type": "code",
      "source": [
        "from decimal import Decimal"
      ],
      "metadata": {
        "id": "HPsXMsOOfg3J"
      },
      "execution_count": 27,
      "outputs": []
    },
    {
      "cell_type": "code",
      "source": [
        "Decimal('8.25') * 3"
      ],
      "metadata": {
        "colab": {
          "base_uri": "https://localhost:8080/"
        },
        "id": "0SAj-r0kfI35",
        "outputId": "0818fdbb-bc70-4032-f4dc-44214acf94d8"
      },
      "execution_count": 28,
      "outputs": [
        {
          "output_type": "execute_result",
          "data": {
            "text/plain": [
              "Decimal('24.75')"
            ]
          },
          "metadata": {},
          "execution_count": 28
        }
      ]
    },
    {
      "cell_type": "markdown",
      "source": [
        "Strings, type str:"
      ],
      "metadata": {
        "id": "gn-I9PZCf9yL"
      }
    },
    {
      "cell_type": "code",
      "source": [
        "# Create them with double quotes:\n",
        "print(\"Hello unicode 👋\")"
      ],
      "metadata": {
        "colab": {
          "base_uri": "https://localhost:8080/"
        },
        "id": "HzKdU1S8fmN5",
        "outputId": "49ee679f-52f4-4044-9fad-4e4514799c14"
      },
      "execution_count": 29,
      "outputs": [
        {
          "output_type": "stream",
          "name": "stdout",
          "text": [
            "Hello unicode 👋\n"
          ]
        }
      ]
    },
    {
      "cell_type": "code",
      "source": [
        "type(\"Hello World\")"
      ],
      "metadata": {
        "colab": {
          "base_uri": "https://localhost:8080/"
        },
        "id": "j0dsldqCgwtK",
        "outputId": "a9dc871d-ba0f-4493-8c71-87f6c82cb98d"
      },
      "execution_count": 30,
      "outputs": [
        {
          "output_type": "execute_result",
          "data": {
            "text/plain": [
              "str"
            ]
          },
          "metadata": {},
          "execution_count": 30
        }
      ]
    },
    {
      "cell_type": "code",
      "source": [
        "len(\"Hello\")"
      ],
      "metadata": {
        "colab": {
          "base_uri": "https://localhost:8080/"
        },
        "id": "0NMou_i9g8E0",
        "outputId": "63f7002c-8663-47ba-b4bf-44e568b89b29"
      },
      "execution_count": 31,
      "outputs": [
        {
          "output_type": "execute_result",
          "data": {
            "text/plain": [
              "5"
            ]
          },
          "metadata": {},
          "execution_count": 31
        }
      ]
    },
    {
      "cell_type": "markdown",
      "source": [
        "Booleans, type bool\n",
        "Python booleans are as simple as they get: True and False, capitalized."
      ],
      "metadata": {
        "id": "cijz6ii9hQ30"
      }
    },
    {
      "cell_type": "code",
      "source": [
        "True"
      ],
      "metadata": {
        "colab": {
          "base_uri": "https://localhost:8080/"
        },
        "id": "cPb82Ew1hHSo",
        "outputId": "8873b6d4-4d12-4075-c833-d7f13989b690"
      },
      "execution_count": 32,
      "outputs": [
        {
          "output_type": "execute_result",
          "data": {
            "text/plain": [
              "True"
            ]
          },
          "metadata": {},
          "execution_count": 32
        }
      ]
    },
    {
      "cell_type": "code",
      "source": [
        "type(False)"
      ],
      "metadata": {
        "colab": {
          "base_uri": "https://localhost:8080/"
        },
        "id": "4Wp9HghIht1v",
        "outputId": "0209770b-854b-4236-ffa0-d60620205394"
      },
      "execution_count": 33,
      "outputs": [
        {
          "output_type": "execute_result",
          "data": {
            "text/plain": [
              "bool"
            ]
          },
          "metadata": {},
          "execution_count": 33
        }
      ]
    },
    {
      "cell_type": "markdown",
      "source": [
        "None, type NoneType"
      ],
      "metadata": {
        "id": "Tob7Tbg7iA-N"
      }
    },
    {
      "cell_type": "code",
      "source": [
        "x = None"
      ],
      "metadata": {
        "id": "ED4mbdpoh3fP"
      },
      "execution_count": 34,
      "outputs": []
    },
    {
      "cell_type": "code",
      "source": [
        "x "
      ],
      "metadata": {
        "id": "SBzRavmriReh"
      },
      "execution_count": 35,
      "outputs": []
    },
    {
      "cell_type": "code",
      "source": [
        "print(x)"
      ],
      "metadata": {
        "colab": {
          "base_uri": "https://localhost:8080/"
        },
        "id": "QdCcnzM0iXCg",
        "outputId": "45286d3e-2b7b-426e-ae9b-5c89e610e9eb"
      },
      "execution_count": 36,
      "outputs": [
        {
          "output_type": "stream",
          "name": "stdout",
          "text": [
            "None\n"
          ]
        }
      ]
    },
    {
      "cell_type": "code",
      "source": [
        "type(None)"
      ],
      "metadata": {
        "colab": {
          "base_uri": "https://localhost:8080/"
        },
        "id": "KbCxjoN_iYst",
        "outputId": "42dac9cc-3bbd-4bed-d344-32ccac0457a3"
      },
      "execution_count": 37,
      "outputs": [
        {
          "output_type": "execute_result",
          "data": {
            "text/plain": [
              "NoneType"
            ]
          },
          "metadata": {},
          "execution_count": 37
        }
      ]
    },
    {
      "cell_type": "markdown",
      "source": [
        "int, float, str and bool objects and functions"
      ],
      "metadata": {
        "id": "FDZtraS5idxe"
      }
    },
    {
      "cell_type": "code",
      "source": [
        "age_as_string = \"24\""
      ],
      "metadata": {
        "id": "LHhF1Sg8ibiz"
      },
      "execution_count": 38,
      "outputs": []
    },
    {
      "cell_type": "code",
      "source": [
        "type(age_as_string)"
      ],
      "metadata": {
        "colab": {
          "base_uri": "https://localhost:8080/"
        },
        "id": "QWUqMkiDiyt7",
        "outputId": "9c052b43-3791-4293-ae07-74a193494d62"
      },
      "execution_count": 39,
      "outputs": [
        {
          "output_type": "execute_result",
          "data": {
            "text/plain": [
              "str"
            ]
          },
          "metadata": {},
          "execution_count": 39
        }
      ]
    },
    {
      "cell_type": "code",
      "source": [
        "int(age_as_string)"
      ],
      "metadata": {
        "colab": {
          "base_uri": "https://localhost:8080/"
        },
        "id": "aRMIQmN-i4Nx",
        "outputId": "e665fec3-4933-4a8d-ed0d-bd41ab7f330a"
      },
      "execution_count": 40,
      "outputs": [
        {
          "output_type": "execute_result",
          "data": {
            "text/plain": [
              "24"
            ]
          },
          "metadata": {},
          "execution_count": 40
        }
      ]
    },
    {
      "cell_type": "code",
      "source": [
        "type(age)"
      ],
      "metadata": {
        "colab": {
          "base_uri": "https://localhost:8080/"
        },
        "id": "yeS8wtuji-Wf",
        "outputId": "f2c81d60-70b2-4c44-f42d-8313b0b94548"
      },
      "execution_count": 41,
      "outputs": [
        {
          "output_type": "execute_result",
          "data": {
            "text/plain": [
              "int"
            ]
          },
          "metadata": {},
          "execution_count": 41
        }
      ]
    },
    {
      "cell_type": "markdown",
      "source": [
        "Their use as objects is mainly associated with their type:"
      ],
      "metadata": {
        "id": "6xiiO4lGjC5B"
      }
    },
    {
      "cell_type": "code",
      "source": [
        "type(37) == int"
      ],
      "metadata": {
        "colab": {
          "base_uri": "https://localhost:8080/"
        },
        "id": "cxRaJefvjRQ3",
        "outputId": "3d4501c8-fc79-426e-f45a-e1f08dccbf0d"
      },
      "execution_count": 42,
      "outputs": [
        {
          "output_type": "execute_result",
          "data": {
            "text/plain": [
              "True"
            ]
          },
          "metadata": {},
          "execution_count": 42
        }
      ]
    },
    {
      "cell_type": "markdown",
      "source": [
        "Functions"
      ],
      "metadata": {
        "id": "eKcgbmyblBTy"
      }
    },
    {
      "cell_type": "code",
      "source": [
        "def hello():\n",
        "  return \"Hello World\""
      ],
      "metadata": {
        "id": "S7szk_wdlG9P"
      },
      "execution_count": 43,
      "outputs": []
    },
    {
      "cell_type": "code",
      "source": [
        "result = hello()"
      ],
      "metadata": {
        "id": "cYZHPcdvlRsM"
      },
      "execution_count": 44,
      "outputs": []
    },
    {
      "cell_type": "code",
      "source": [
        "result"
      ],
      "metadata": {
        "colab": {
          "base_uri": "https://localhost:8080/",
          "height": 36
        },
        "id": "O9W-tWlHlWnG",
        "outputId": "b3adb683-9397-4e53-d3e4-d43612639657"
      },
      "execution_count": 45,
      "outputs": [
        {
          "output_type": "execute_result",
          "data": {
            "text/plain": [
              "'Hello World'"
            ],
            "application/vnd.google.colaboratory.intrinsic+json": {
              "type": "string"
            }
          },
          "metadata": {},
          "execution_count": 45
        }
      ]
    },
    {
      "cell_type": "code",
      "source": [
        "def empty():\n",
        "  x = 6"
      ],
      "metadata": {
        "id": "U3IdpmE9lafs"
      },
      "execution_count": 46,
      "outputs": []
    },
    {
      "cell_type": "code",
      "source": [
        "result = empty()"
      ],
      "metadata": {
        "id": "6ilkgcAjlmEW"
      },
      "execution_count": 47,
      "outputs": []
    },
    {
      "cell_type": "code",
      "source": [
        "print(result)"
      ],
      "metadata": {
        "colab": {
          "base_uri": "https://localhost:8080/"
        },
        "id": "GuYuWlQ8lmOI",
        "outputId": "cebbf5ec-b267-49c0-c422-5f894bb8490b"
      },
      "execution_count": 48,
      "outputs": [
        {
          "output_type": "stream",
          "name": "stdout",
          "text": [
            "None\n"
          ]
        }
      ]
    },
    {
      "cell_type": "markdown",
      "source": [
        "Recieving Parameters"
      ],
      "metadata": {
        "id": "n33IUMVOl2N7"
      }
    },
    {
      "cell_type": "code",
      "source": [
        "def add(x,y):\n",
        "  return x + y"
      ],
      "metadata": {
        "id": "Wppp-ckcl96C"
      },
      "execution_count": 49,
      "outputs": []
    },
    {
      "cell_type": "code",
      "source": [
        "add(2,5)"
      ],
      "metadata": {
        "colab": {
          "base_uri": "https://localhost:8080/"
        },
        "id": "SXqT9oFAmGID",
        "outputId": "f38791f0-9aa5-430f-feb0-c37c87c58d95"
      },
      "execution_count": 50,
      "outputs": [
        {
          "output_type": "execute_result",
          "data": {
            "text/plain": [
              "7"
            ]
          },
          "metadata": {},
          "execution_count": 50
        }
      ]
    },
    {
      "cell_type": "code",
      "source": [
        "def add(*args):\n",
        "  return(sum(args))"
      ],
      "metadata": {
        "id": "JFZ_ZN0DmNe4"
      },
      "execution_count": 51,
      "outputs": []
    },
    {
      "cell_type": "code",
      "source": [
        "add(4,5,2)"
      ],
      "metadata": {
        "colab": {
          "base_uri": "https://localhost:8080/"
        },
        "id": "voPPxyuomXem",
        "outputId": "f266b7ab-a484-4e89-84bb-7d4f4d20d45b"
      },
      "execution_count": 54,
      "outputs": [
        {
          "output_type": "execute_result",
          "data": {
            "text/plain": [
              "11"
            ]
          },
          "metadata": {},
          "execution_count": 54
        }
      ]
    },
    {
      "cell_type": "code",
      "source": [
        "add(6)"
      ],
      "metadata": {
        "colab": {
          "base_uri": "https://localhost:8080/"
        },
        "id": "H4JP4CjumZdR",
        "outputId": "f3f8ea7b-b41a-48cd-e131-bcb8e80b5e28"
      },
      "execution_count": 55,
      "outputs": [
        {
          "output_type": "execute_result",
          "data": {
            "text/plain": [
              "6"
            ]
          },
          "metadata": {},
          "execution_count": 55
        }
      ]
    },
    {
      "cell_type": "markdown",
      "source": [
        "Operators"
      ],
      "metadata": {
        "id": "UQdBoFelmkFO"
      }
    },
    {
      "cell_type": "markdown",
      "source": [
        "Aritmetic operators"
      ],
      "metadata": {
        "id": "AFcq0rJsmo1s"
      }
    },
    {
      "cell_type": "code",
      "source": [
        "3 + 3"
      ],
      "metadata": {
        "colab": {
          "base_uri": "https://localhost:8080/"
        },
        "id": "GThVroelmg2m",
        "outputId": "839c4547-5c49-4337-ebb5-485afb0bc178"
      },
      "execution_count": 56,
      "outputs": [
        {
          "output_type": "execute_result",
          "data": {
            "text/plain": [
              "6"
            ]
          },
          "metadata": {},
          "execution_count": 56
        }
      ]
    },
    {
      "cell_type": "code",
      "source": [
        "11 % 7"
      ],
      "metadata": {
        "colab": {
          "base_uri": "https://localhost:8080/"
        },
        "id": "aFBy6IEMmwne",
        "outputId": "4c93c684-37eb-446c-fe0d-f77b567bd140"
      },
      "execution_count": 57,
      "outputs": [
        {
          "output_type": "execute_result",
          "data": {
            "text/plain": [
              "4"
            ]
          },
          "metadata": {},
          "execution_count": 57
        }
      ]
    },
    {
      "cell_type": "code",
      "source": [
        "2 ** 6"
      ],
      "metadata": {
        "colab": {
          "base_uri": "https://localhost:8080/"
        },
        "id": "PJ6PZcghmzo_",
        "outputId": "d67d02f8-3a09-49c1-9ba6-2f69738b7c06"
      },
      "execution_count": 58,
      "outputs": [
        {
          "output_type": "execute_result",
          "data": {
            "text/plain": [
              "64"
            ]
          },
          "metadata": {},
          "execution_count": 58
        }
      ]
    },
    {
      "cell_type": "code",
      "source": [
        "2 + 8 * 5"
      ],
      "metadata": {
        "colab": {
          "base_uri": "https://localhost:8080/"
        },
        "id": "t9sJFMBDm0Ho",
        "outputId": "99b4b9c1-f4cc-4a46-bc68-5ce92c00d8bd"
      },
      "execution_count": 59,
      "outputs": [
        {
          "output_type": "execute_result",
          "data": {
            "text/plain": [
              "42"
            ]
          },
          "metadata": {},
          "execution_count": 59
        }
      ]
    },
    {
      "cell_type": "code",
      "source": [
        "2 + 8 ** 5"
      ],
      "metadata": {
        "colab": {
          "base_uri": "https://localhost:8080/"
        },
        "id": "l7z9tklRm84s",
        "outputId": "0f30dd65-8bcb-4a77-8195-75f80ccedac7"
      },
      "execution_count": 60,
      "outputs": [
        {
          "output_type": "execute_result",
          "data": {
            "text/plain": [
              "32770"
            ]
          },
          "metadata": {},
          "execution_count": 60
        }
      ]
    },
    {
      "cell_type": "markdown",
      "source": [
        "Boolean operators"
      ],
      "metadata": {
        "id": "Y21en-efnE-b"
      }
    },
    {
      "cell_type": "code",
      "source": [
        "7 > 4"
      ],
      "metadata": {
        "colab": {
          "base_uri": "https://localhost:8080/"
        },
        "id": "UpR7hindnIKn",
        "outputId": "9e501e8e-2f00-4e7c-c107-1e46bed42fed"
      },
      "execution_count": 61,
      "outputs": [
        {
          "output_type": "execute_result",
          "data": {
            "text/plain": [
              "True"
            ]
          },
          "metadata": {},
          "execution_count": 61
        }
      ]
    },
    {
      "cell_type": "code",
      "source": [
        "8 >= 6"
      ],
      "metadata": {
        "colab": {
          "base_uri": "https://localhost:8080/"
        },
        "id": "WURGOe2_nNiV",
        "outputId": "e0ae68ff-ec5c-4eff-e8ce-1de5c985621c"
      },
      "execution_count": 62,
      "outputs": [
        {
          "output_type": "execute_result",
          "data": {
            "text/plain": [
              "True"
            ]
          },
          "metadata": {},
          "execution_count": 62
        }
      ]
    },
    {
      "cell_type": "markdown",
      "source": [
        "Control Flow\n",
        "\n",
        "if/else/elif statements"
      ],
      "metadata": {
        "id": "5yNF2Qfinecw"
      }
    },
    {
      "cell_type": "code",
      "source": [
        "days_subscribed = 37"
      ],
      "metadata": {
        "id": "mUvLFS--ndJ9"
      },
      "execution_count": 73,
      "outputs": []
    },
    {
      "cell_type": "code",
      "source": [
        "if days_subscribed >= 30:\n",
        "  print('Loyal customer')\n",
        "elif days_subscribed >= 15:\n",
        "    print('Halfway there')\n",
        "elif days_subscribed >= 1:\n",
        "    print('building confidence')\n",
        "else:\n",
        "    print('Too early')"
      ],
      "metadata": {
        "colab": {
          "base_uri": "https://localhost:8080/"
        },
        "id": "xX5p1HnmnxrU",
        "outputId": "dfd1d4f6-0a17-4e1b-c684-62a78c39cad7"
      },
      "execution_count": 76,
      "outputs": [
        {
          "output_type": "stream",
          "name": "stdout",
          "text": [
            "Loyal customer\n"
          ]
        }
      ]
    },
    {
      "cell_type": "markdown",
      "source": [
        "For loops"
      ],
      "metadata": {
        "id": "BswBuhy6pG2h"
      }
    },
    {
      "cell_type": "code",
      "source": [
        "names = ['Deniz', 'Melis', 'Melih', 'Duru']"
      ],
      "metadata": {
        "id": "0pbMVPVipFk8"
      },
      "execution_count": 77,
      "outputs": []
    },
    {
      "cell_type": "code",
      "source": [
        "for name in names:\n",
        "  print(name)"
      ],
      "metadata": {
        "colab": {
          "base_uri": "https://localhost:8080/"
        },
        "id": "wh_vR-BLpJCC",
        "outputId": "348b4a32-5dd2-4632-f076-962103b4a6e5"
      },
      "execution_count": 78,
      "outputs": [
        {
          "output_type": "stream",
          "name": "stdout",
          "text": [
            "Deniz\n",
            "Melis\n",
            "Melih\n",
            "Duru\n"
          ]
        }
      ]
    },
    {
      "cell_type": "markdown",
      "source": [
        "While loops"
      ],
      "metadata": {
        "id": "9Yef2yqwpolN"
      }
    },
    {
      "cell_type": "code",
      "source": [
        "count = 0"
      ],
      "metadata": {
        "id": "cZirAAkZpsHg"
      },
      "execution_count": 79,
      "outputs": []
    },
    {
      "cell_type": "code",
      "source": [
        "while count < 3:\n",
        "  print('Counting...')\n",
        "  count += 1"
      ],
      "metadata": {
        "colab": {
          "base_uri": "https://localhost:8080/"
        },
        "id": "LedP7d_ppb9f",
        "outputId": "2dec8a65-50c0-4fb0-f698-3e539f8af6ff"
      },
      "execution_count": 81,
      "outputs": [
        {
          "output_type": "stream",
          "name": "stdout",
          "text": [
            "Counting...\n",
            "Counting...\n",
            "Counting...\n"
          ]
        }
      ]
    },
    {
      "cell_type": "markdown",
      "source": [
        "Lists\n",
        "\n",
        "Lists are mutable, ordered sequences. The most common collection type."
      ],
      "metadata": {
        "id": "J9YHUtRnqDAn"
      }
    },
    {
      "cell_type": "code",
      "source": [
        "l = [37, \"Hello World\", True]"
      ],
      "metadata": {
        "id": "ohPied1QqEIM"
      },
      "execution_count": 82,
      "outputs": []
    },
    {
      "cell_type": "code",
      "source": [
        "len(l)"
      ],
      "metadata": {
        "colab": {
          "base_uri": "https://localhost:8080/"
        },
        "id": "QqoRmqW2qnDP",
        "outputId": "d0a25714-79f8-4937-b8c9-2ac2d6ab9196"
      },
      "execution_count": 84,
      "outputs": [
        {
          "output_type": "execute_result",
          "data": {
            "text/plain": [
              "3"
            ]
          },
          "metadata": {},
          "execution_count": 84
        }
      ]
    },
    {
      "cell_type": "code",
      "source": [
        "l[0]"
      ],
      "metadata": {
        "colab": {
          "base_uri": "https://localhost:8080/"
        },
        "id": "0-vubXoQqs5Y",
        "outputId": "23e43645-e099-45db-8bff-40fc5c566e6c"
      },
      "execution_count": 85,
      "outputs": [
        {
          "output_type": "execute_result",
          "data": {
            "text/plain": [
              "37"
            ]
          },
          "metadata": {},
          "execution_count": 85
        }
      ]
    },
    {
      "cell_type": "code",
      "source": [
        "l[2]"
      ],
      "metadata": {
        "colab": {
          "base_uri": "https://localhost:8080/"
        },
        "id": "HhR6DVYvqv6J",
        "outputId": "46361537-ca58-4a10-e4d9-d499e7b8a96c"
      },
      "execution_count": 86,
      "outputs": [
        {
          "output_type": "execute_result",
          "data": {
            "text/plain": [
              "True"
            ]
          },
          "metadata": {},
          "execution_count": 86
        }
      ]
    },
    {
      "cell_type": "code",
      "source": [
        "l[-1]"
      ],
      "metadata": {
        "colab": {
          "base_uri": "https://localhost:8080/"
        },
        "id": "cSfTfTBZq0lz",
        "outputId": "9ad6c597-f74a-4158-d19f-cae3af8d3bf3"
      },
      "execution_count": 87,
      "outputs": [
        {
          "output_type": "execute_result",
          "data": {
            "text/plain": [
              "True"
            ]
          },
          "metadata": {},
          "execution_count": 87
        }
      ]
    },
    {
      "cell_type": "code",
      "source": [
        "l[-2]"
      ],
      "metadata": {
        "colab": {
          "base_uri": "https://localhost:8080/",
          "height": 36
        },
        "id": "SjLmWPAXq4WR",
        "outputId": "aeaa1d7e-96cc-4172-e417-0503354f0739"
      },
      "execution_count": 88,
      "outputs": [
        {
          "output_type": "execute_result",
          "data": {
            "text/plain": [
              "'Hello World'"
            ],
            "application/vnd.google.colaboratory.intrinsic+json": {
              "type": "string"
            }
          },
          "metadata": {},
          "execution_count": 88
        }
      ]
    },
    {
      "cell_type": "code",
      "source": [
        "l.append('Python')"
      ],
      "metadata": {
        "id": "lxt8zwOlrBPh"
      },
      "execution_count": 89,
      "outputs": []
    },
    {
      "cell_type": "code",
      "source": [
        "l"
      ],
      "metadata": {
        "colab": {
          "base_uri": "https://localhost:8080/"
        },
        "id": "QtmSe-W5rHcE",
        "outputId": "2e33657b-2f6a-471e-cac7-6aafd846a97b"
      },
      "execution_count": 90,
      "outputs": [
        {
          "output_type": "execute_result",
          "data": {
            "text/plain": [
              "[37, 'Hello World', True, 'Python']"
            ]
          },
          "metadata": {},
          "execution_count": 90
        }
      ]
    },
    {
      "cell_type": "markdown",
      "source": [
        "Tuples\n",
        "\n",
        "Tuples are very similar to lists, but with a huge difference: they are immtable. That means, once a tuple is created, it con not be further modified:"
      ],
      "metadata": {
        "id": "mOiapEu9rSx_"
      }
    },
    {
      "cell_type": "code",
      "source": [
        "t = (3, 'Hello World', True)"
      ],
      "metadata": {
        "id": "eXHfJ9zxrzM6"
      },
      "execution_count": 91,
      "outputs": []
    },
    {
      "cell_type": "code",
      "source": [
        "t[0]"
      ],
      "metadata": {
        "colab": {
          "base_uri": "https://localhost:8080/"
        },
        "id": "rWIRYgPcr9vM",
        "outputId": "0f14bd8a-ae57-4d7a-e35b-9e7617f5d081"
      },
      "execution_count": 92,
      "outputs": [
        {
          "output_type": "execute_result",
          "data": {
            "text/plain": [
              "3"
            ]
          },
          "metadata": {},
          "execution_count": 92
        }
      ]
    },
    {
      "cell_type": "code",
      "source": [
        "t[2]"
      ],
      "metadata": {
        "colab": {
          "base_uri": "https://localhost:8080/"
        },
        "id": "OmZ-Q8F2r_Vh",
        "outputId": "bb969876-b219-4c12-f8ca-97c78d79ee34"
      },
      "execution_count": 93,
      "outputs": [
        {
          "output_type": "execute_result",
          "data": {
            "text/plain": [
              "True"
            ]
          },
          "metadata": {},
          "execution_count": 93
        }
      ]
    },
    {
      "cell_type": "code",
      "source": [
        "'Hello World' in t"
      ],
      "metadata": {
        "colab": {
          "base_uri": "https://localhost:8080/"
        },
        "id": "bZg2y4jhsDfI",
        "outputId": "284b966d-8925-49f1-f025-0304a78db440"
      },
      "execution_count": 94,
      "outputs": [
        {
          "output_type": "execute_result",
          "data": {
            "text/plain": [
              "True"
            ]
          },
          "metadata": {},
          "execution_count": 94
        }
      ]
    },
    {
      "cell_type": "markdown",
      "source": [
        "Dictionaries"
      ],
      "metadata": {
        "id": "pb5ElKrgsLyR"
      }
    },
    {
      "cell_type": "code",
      "source": [],
      "metadata": {
        "id": "dOuqAkbfsP75"
      },
      "execution_count": null,
      "outputs": []
    }
  ]
}