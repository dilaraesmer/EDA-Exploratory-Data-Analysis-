{
  "nbformat": 4,
  "nbformat_minor": 0,
  "metadata": {
    "colab": {
      "name": "Exploratory_Data_Analysis",
      "private_outputs": true,
      "provenance": [],
      "collapsed_sections": [],
      "authorship_tag": "ABX9TyO2p6Vk5yMeLMKZQwBnIFHB",
      "include_colab_link": true
    },
    "kernelspec": {
      "name": "python3",
      "display_name": "Python 3"
    },
    "language_info": {
      "name": "python"
    }
  },
  "cells": [
    {
      "cell_type": "markdown",
      "metadata": {
        "id": "view-in-github",
        "colab_type": "text"
      },
      "source": [
        "<a href=\"https://colab.research.google.com/github/dilaraesmer/EDA-Exploratory-Data-Analysis-/blob/main/Exploratory_Data_Analysis.ipynb\" target=\"_parent\"><img src=\"https://colab.research.google.com/assets/colab-badge.svg\" alt=\"Open In Colab\"/></a>"
      ]
    },
    {
      "cell_type": "markdown",
      "source": [
        "## Exploratory Data Analysis (Keşifsel Veri Analizi)\n",
        "\n",
        "İstatistikte, keşifsel veri analizi, genellikle istatistiksel grafikler ve diğer veri görselleştirme yöntemlerini kullanarak temel özelliklerini özetlemek için veri kümelerini analiz etme yaklaşımıdır.\n",
        "\n",
        "\"2021-22 NBA oyuncularının oyun başına istatistikleri\" veri setinden çekilmiştir.\n",
        "\n",
        " https://www.basketball-reference.com/leagues/NBA_2022_per_game.html"
      ],
      "metadata": {
        "id": "JoC8TMP7H16Z"
      }
    },
    {
      "cell_type": "code",
      "source": [
        "import pandas as pd\n",
        "# HTML sayfasındaki verileri çekmek için aşağıdaki adımlar incelenir.\n",
        "url = 'https://www.basketball-reference.com/leagues/NBA_2021_per_game.html'\n",
        "html = pd.read_html(url, header = 0)\n",
        "df2021 = html[0]\n",
        "\n",
        "# Veri temizleme işlemi \n",
        "raw = df2021.drop(df2021[df2021.Age == 'Age'].index)\n",
        "raw\n"
      ],
      "metadata": {
        "id": "f_fcVSqCIUis"
      },
      "execution_count": null,
      "outputs": []
    },
    {
      "cell_type": "markdown",
      "source": [
        "**Data Cleaning (Veri Temizleme)**\n",
        "\n",
        "Data dimension (veri boyutu)"
      ],
      "metadata": {
        "id": "pLhnfvB5aqgj"
      }
    },
    {
      "cell_type": "code",
      "source": [
        "raw.shape\n",
        "# verinin kaç satır kaç sütundan oluştuğunu görmemize yarar."
      ],
      "metadata": {
        "id": "xSOJeVbsannD"
      },
      "execution_count": null,
      "outputs": []
    },
    {
      "cell_type": "markdown",
      "source": [
        "Dataframe contents (Veri çervesinin içeriği)"
      ],
      "metadata": {
        "id": "zo8okXg3b6to"
      }
    },
    {
      "cell_type": "code",
      "source": [
        "raw.head()"
      ],
      "metadata": {
        "id": "G_A837c-b4KL"
      },
      "execution_count": null,
      "outputs": []
    },
    {
      "cell_type": "markdown",
      "source": [
        "Kayıp verilerin kontrolü \n"
      ],
      "metadata": {
        "id": "M6GcJXs6UE51"
      }
    },
    {
      "cell_type": "code",
      "source": [
        "raw.isnull().sum()"
      ],
      "metadata": {
        "id": "8B6w3PvdUR4v"
      },
      "execution_count": null,
      "outputs": []
    },
    {
      "cell_type": "markdown",
      "source": [
        "Kayıp verilerin 0 ile değiştirilmesi"
      ],
      "metadata": {
        "id": "q-628rBOVXcL"
      }
    },
    {
      "cell_type": "code",
      "source": [
        "df = raw.fillna(0)"
      ],
      "metadata": {
        "id": "g7JeGSrLVQ_S"
      },
      "execution_count": null,
      "outputs": []
    },
    {
      "cell_type": "code",
      "source": [
        "df.isnull().sum()"
      ],
      "metadata": {
        "id": "ip8TToaHVu1N"
      },
      "execution_count": null,
      "outputs": []
    },
    {
      "cell_type": "code",
      "source": [
        "df = df.drop(['Rk'], axis=1) \n",
        "# kayıp verileri temizledikten sonra \"Rk = Rank\" sıra numaraları da değiştirilir.\n",
        "df"
      ],
      "metadata": {
        "id": "dsqR4smwWEvO"
      },
      "execution_count": null,
      "outputs": []
    },
    {
      "cell_type": "markdown",
      "source": [
        "CSV dosyanına yazma  işlemi \n"
      ],
      "metadata": {
        "id": "eEPV8v3lXitO"
      }
    },
    {
      "cell_type": "code",
      "source": [
        "df.to_csv('nba2021.csv', index=False)\n"
      ],
      "metadata": {
        "id": "CGd_iLymXpYZ"
      },
      "execution_count": null,
      "outputs": []
    },
    {
      "cell_type": "code",
      "source": [
        "! ls # dosyayı listelemeyi sağlar. "
      ],
      "metadata": {
        "id": "EMOQ1V2IYa_e"
      },
      "execution_count": null,
      "outputs": []
    },
    {
      "cell_type": "code",
      "source": [
        "! cat nba2021.csv # dosyanın içeriğini görüntülemeyi sağlar. "
      ],
      "metadata": {
        "id": "TYWeYmscZFbG"
      },
      "execution_count": null,
      "outputs": []
    },
    {
      "cell_type": "markdown",
      "source": [
        "**Keşifsel Veri Analizi**\n"
      ],
      "metadata": {
        "id": "jqBLpDrQasKv"
      }
    },
    {
      "cell_type": "markdown",
      "source": [
        "Veri Okuma "
      ],
      "metadata": {
        "id": "eZxSOfA6bBY6"
      }
    },
    {
      "cell_type": "code",
      "source": [
        "df = pd.read_csv('nba2021.csv') # csv dosyasını okumayı sağlar. \n",
        "df"
      ],
      "metadata": {
        "id": "CpHV307jbFrE"
      },
      "execution_count": null,
      "outputs": []
    },
    {
      "cell_type": "markdown",
      "source": [
        "Eğer tüm gözlem birimlerini bir arada görüntülemek istiyorsak;"
      ],
      "metadata": {
        "id": "AxU0FxjKccsH"
      }
    },
    {
      "cell_type": "code",
      "source": [
        "pd.set_option('display.max_rows', df.shape[0]+1)\n",
        "df"
      ],
      "metadata": {
        "id": "_-qKxWMQccOf"
      },
      "execution_count": null,
      "outputs": []
    },
    {
      "cell_type": "markdown",
      "source": [
        "Verilerin bu şekilde dataframe'de saklanması işlemleri gerçekleştirmede güçlük yaratacaktır bu nedenle varsasyılan moda geri döndürmemiz gerekir. "
      ],
      "metadata": {
        "id": "sHckmR42dkSu"
      }
    },
    {
      "cell_type": "code",
      "source": [
        "pd.set_option('display.max_rows', 10)\n",
        "df"
      ],
      "metadata": {
        "id": "v2L6_sy2dYlc"
      },
      "execution_count": null,
      "outputs": []
    },
    {
      "cell_type": "markdown",
      "source": [
        "Veri çervesinin her bir sütununun veri tipleri hakkında genel bilgi sahibi olmak için aşağıdaki komut kullanılır. "
      ],
      "metadata": {
        "id": "GVgG1Iy8e3cN"
      }
    },
    {
      "cell_type": "code",
      "source": [
        "df.dtypes"
      ],
      "metadata": {
        "id": "D88vV7Kwfes_"
      },
      "execution_count": null,
      "outputs": []
    },
    {
      "cell_type": "markdown",
      "source": [
        "Veri çerçevesinde belirtilmiş olan veri tipini görüntülemeyi sağlar. "
      ],
      "metadata": {
        "id": "txHqnOxrf9zV"
      }
    },
    {
      "cell_type": "code",
      "source": [
        "df.select_dtypes(include=['number']) # veri tipi sayısal olan verilerin görülmesi"
      ],
      "metadata": {
        "id": "XBPCSwxYgQ-L"
      },
      "execution_count": null,
      "outputs": []
    },
    {
      "cell_type": "code",
      "source": [
        "df.select_dtypes(include=['object']) # nitel verilerin görüntülenmesini sağlar. \n",
        "# Bu veri seti için oyuncuların isimleri, pozisyonları ve takım isimleridir. "
      ],
      "metadata": {
        "id": "HznEOuu6g_p2"
      },
      "execution_count": null,
      "outputs": []
    },
    {
      "cell_type": "markdown",
      "source": [
        "## Sorular"
      ],
      "metadata": {
        "id": "mUBxCJI4jY31"
      }
    },
    {
      "cell_type": "markdown",
      "source": [
        "**Koşullu Seçim**"
      ],
      "metadata": {
        "id": "mvoKJx4hjeFN"
      }
    },
    {
      "cell_type": "markdown",
      "source": [
        "Keşifsel veri analizini uygularken, analiz veya karşılaştırma yapmak için veri alt kümelerini seçebilmek önemlidir."
      ],
      "metadata": {
        "id": "1cNQHjDLjeLY"
      }
    },
    {
      "cell_type": "markdown",
      "source": [
        "**Maç başına en çok puanı hangi oyuncu almıştır?**"
      ],
      "metadata": {
        "id": "zZbpsJo7kcVi"
      }
    },
    {
      "cell_type": "code",
      "source": [
        "df[df.PTS == df.PTS.max()] # PTS (Points Per Game) olarak kullanılmıştır."
      ],
      "metadata": {
        "id": "aCvn8yxFkrju"
      },
      "execution_count": null,
      "outputs": []
    },
    {
      "cell_type": "code",
      "source": [
        "df.PTS # Tüm oyuncuların maç başına puanlarını listelenmiştir. \n",
        "df['PTS'] # yukarıdaki komutun bir diğer şekliyle ifade edilmiş halidir. "
      ],
      "metadata": {
        "id": "I9Jr-daVlgi_"
      },
      "execution_count": null,
      "outputs": []
    },
    {
      "cell_type": "code",
      "source": [
        "df.PTS.max() # .max() ile verilerden en büyüğünü görüntüler.\n",
        "df['PTS'].max() # yukarıdaki komutla aynı anlama gelir. "
      ],
      "metadata": {
        "id": "iyo7X1zXly6L"
      },
      "execution_count": null,
      "outputs": []
    },
    {
      "cell_type": "markdown",
      "source": [
        "Maç başına en yüksek puanı alan oyuncu hangi takımdandır?"
      ],
      "metadata": {
        "id": "0MLkxbsFnsF3"
      }
    },
    {
      "cell_type": "code",
      "source": [
        "PlayerMaxPoints = df[df.PTS == df.PTS.max()]\n",
        "PlayerMaxPoints.Tm # Tm (Team) ile gösterilen takım anlamında kullanıldı."
      ],
      "metadata": {
        "id": "tcCBY0C4mSCp"
      },
      "execution_count": null,
      "outputs": []
    },
    {
      "cell_type": "markdown",
      "source": [
        "Maç başına en yüksek puanı alan oyuncu hangi mevkide oynuyor?"
      ],
      "metadata": {
        "id": "IWJuXsoyo9yv"
      }
    },
    {
      "cell_type": "code",
      "source": [
        "PlayerMaxPoints.Pos # Pos (Position) pozisyonun kısaltımış halidir. "
      ],
      "metadata": {
        "id": "B-NRpOaWpVDX"
      },
      "execution_count": null,
      "outputs": []
    },
    {
      "cell_type": "markdown",
      "source": [
        "Maç başına en yüksek puanı alan oyuncu sezonda kaç maçta oynamıştır?"
      ],
      "metadata": {
        "id": "2YnPY1eIqJzj"
      }
    },
    {
      "cell_type": "code",
      "source": [
        "PlayerMaxPoints.G # Game (Maç ya da oyun) için G kısaltması kullanılmıştır. "
      ],
      "metadata": {
        "id": "ipm7DGmzq_7e"
      },
      "execution_count": null,
      "outputs": []
    },
    {
      "cell_type": "markdown",
      "source": [
        "**Hangi oyuncular maç başına 20 puandan daha fazla puana sahiptir?**"
      ],
      "metadata": {
        "id": "8UmUd2ng4DKj"
      }
    },
    {
      "cell_type": "code",
      "source": [
        "df[df.PTS > 20] "
      ],
      "metadata": {
        "id": "q9lEFt0i5zIu"
      },
      "execution_count": null,
      "outputs": []
    },
    {
      "cell_type": "markdown",
      "source": [
        "**Hangi oyuncu maç başına en yüksek 3 sayılık saha atışına (3P) sahiptir?**"
      ],
      "metadata": {
        "id": "2llV927M8jRG"
      }
    },
    {
      "cell_type": "code",
      "source": [
        "df[df['3P'] == df['3P'].max()]"
      ],
      "metadata": {
        "id": "RbY5Tn718zAD"
      },
      "execution_count": null,
      "outputs": []
    },
    {
      "cell_type": "markdown",
      "source": [
        "**Maç başına en yüksek asist (AST) hangi oyuncuya aittir?**"
      ],
      "metadata": {
        "id": "Y17rkp2jEZZ9"
      }
    },
    {
      "cell_type": "markdown",
      "source": [
        "Basketbolda, bir takım arkadaşına topu pas veren bir oyuncuya bir asist atfedilir, bu da baskette \"asist\" yaptıkları anlamına gelir."
      ],
      "metadata": {
        "id": "OAjouFYdEyUR"
      }
    },
    {
      "cell_type": "code",
      "source": [
        "df[df['AST'] == df['AST'].max()]"
      ],
      "metadata": {
        "id": "BKkZRwEbEZAr"
      },
      "execution_count": null,
      "outputs": []
    },
    {
      "cell_type": "markdown",
      "source": [
        "**Yaşı en küçük olan oyuncunun maç başına aldığı puan en düşük kaçtır?**\n",
        "\n",
        "(Birden fazla 19 yaşında olan kişi vardır.)"
      ],
      "metadata": {
        "id": "sUlI6RZtF1n8"
      }
    },
    {
      "cell_type": "code",
      "source": [
        "YasıEnKucukOyuncu = df[df.Age == df.Age.min()]\n",
        "YasıEnKucukOyuncu.PTS.min()\n",
        "# yaşı en küçük oyuncunun maç başına aldığı en düşük puan.\n",
        "# 19 yaşında olan 15 kişi vardır. (15 rows x 29 columns) bilgisinden elde edilir."
      ],
      "metadata": {
        "id": "-GYYBVaRF1Eg"
      },
      "execution_count": null,
      "outputs": []
    },
    {
      "cell_type": "code",
      "source": [
        "df[df['Age'] == df['Age'].min()] # yukarıdaki komutla aynı amaca çalışır."
      ],
      "metadata": {
        "id": "4bzZvhURTnzV"
      },
      "execution_count": null,
      "outputs": []
    },
    {
      "cell_type": "markdown",
      "source": [
        "**GroupBy() fonkisyonu**"
      ],
      "metadata": {
        "id": "VExHqYxjT8Fa"
      }
    },
    {
      "cell_type": "markdown",
      "source": [
        "**Los Angeles Lakers'ta oynayan hangi oyuncu en yüksek puana (PTS = maç başına puan) sahiptir?**"
      ],
      "metadata": {
        "id": "TiwPdajtbrSU"
      }
    },
    {
      "cell_type": "code",
      "source": [
        "LAL = df.groupby('Tm').get_group('LAL')\n",
        "# LAL adında bir değişken oluşturulur grupby fonkisyonundan yararlanılır. "
      ],
      "metadata": {
        "id": "HeXisSXSdBIH"
      },
      "execution_count": null,
      "outputs": []
    },
    {
      "cell_type": "code",
      "source": [
        "LAL[LAL.PTS == LAL.PTS.max()] \n",
        "# LAL olarak kısaltılan takımından maç başına en yüksek puana sahip oyuncu seçilir. "
      ],
      "metadata": {
        "id": "7bBwLf90eZnR"
      },
      "execution_count": null,
      "outputs": []
    },
    {
      "cell_type": "markdown",
      "source": [
        "**5 pozisyondan hangisi en çok puanı almıştır?**\n",
        "\n",
        "Öncelikle oyuncuları pozisyonlarına göre gruplandırırız. "
      ],
      "metadata": {
        "id": "U0Na2jzbhxxt"
      }
    },
    {
      "cell_type": "code",
      "source": [
        "df.groupby('Pos').PTS.describe()"
      ],
      "metadata": {
        "id": "2NxatwE-g9hY"
      },
      "execution_count": null,
      "outputs": []
    },
    {
      "cell_type": "markdown",
      "source": [
        "Şimdi sadece 5 geleneksel pozisyon görüntülenir. (birleşik pozisyonları içeren satırlar analizden çıkarılacaktır)."
      ],
      "metadata": {
        "id": "sqeVRqwEpeaR"
      }
    },
    {
      "cell_type": "markdown",
      "source": [
        "Pandas isin() yöntemi, veri çerçevelerini filtrelemek için kullanılır. isin() yöntemi, belirli bir sütunda belirli bir (veya çoklu) değere sahip satırların seçilmesine olanak tanır."
      ],
      "metadata": {
        "id": "zfMZVwgR50cr"
      }
    },
    {
      "cell_type": "code",
      "source": [
        "positions = ['C', 'PF', 'SF', 'PG', 'SG']\n",
        "POS = df[df['Pos'].isin(positions)]\n",
        "POS"
      ],
      "metadata": {
        "id": "f51OhSEvpeB7"
      },
      "execution_count": null,
      "outputs": []
    },
    {
      "cell_type": "markdown",
      "source": [
        "Şimdi tanımlayıcı istatistiklere genel olarak bakılacaktır. "
      ],
      "metadata": {
        "id": "YbeF9Gw5qywz"
      }
    },
    {
      "cell_type": "code",
      "source": [
        "POS.groupby('Pos').PTS.describe()"
      ],
      "metadata": {
        "id": "yuKaGXcSqyXC"
      },
      "execution_count": null,
      "outputs": []
    },
    {
      "cell_type": "markdown",
      "source": [
        "**Histogram**"
      ],
      "metadata": {
        "id": "_jhpX3m4sVsk"
      }
    },
    {
      "cell_type": "markdown",
      "source": [
        "Histogram, bir dizi sürekli verinin altında yatan frekans dağılımını (şeklini) keşfetmenizi ve göstermenizi sağlayan bir grafiktir. Bu, verilerin temel dağılımı (örn. normal dağılım), aykırı değerler, çarpıklık vb. için incelenmesine olanak tanır."
      ],
      "metadata": {
        "id": "AnNuh7Z0sm9V"
      }
    },
    {
      "cell_type": "code",
      "source": [
        "PTS = df[['Pos','PTS']]\n",
        "\n",
        "positions = ['C', 'PF', 'SF', 'PG', 'SG']\n",
        "PTS = PTS[ PTS['Pos'].isin(positions)]\n",
        "\n",
        "PTS"
      ],
      "metadata": {
        "id": "fDTyJde82SX4"
      },
      "execution_count": null,
      "outputs": []
    },
    {
      "cell_type": "markdown",
      "source": [
        "**Pandas ile Görselleştirme**"
      ],
      "metadata": {
        "id": "PzMusbZz6JqC"
      }
    },
    {
      "cell_type": "code",
      "source": [
        "PTS['PTS'].hist(by=PTS['Pos'])"
      ],
      "metadata": {
        "id": "wLAOyiJ76JFh"
      },
      "execution_count": null,
      "outputs": []
    },
    {
      "cell_type": "code",
      "source": [
        "PTS['PTS'].hist(by = PTS['Pos'], layout = (1,5)) \n",
        "## layout yöntemi histogramın belirlenen satır ve sütun için yerini belirliyor. "
      ],
      "metadata": {
        "id": "86wURSqw65_N"
      },
      "execution_count": null,
      "outputs": []
    },
    {
      "cell_type": "code",
      "source": [
        "PTS['PTS'].hist(by = PTS['Pos'], layout = (1,5), figsize = (16,2))\n",
        "## figsize ile görselin satır ve sütun genişliği açısından büyüklüğü belirlenir."
      ],
      "metadata": {
        "id": "vnm5aCcFCw_L"
      },
      "execution_count": null,
      "outputs": []
    },
    {
      "cell_type": "markdown",
      "source": [
        "**Seaborn ile Veri Görselleştirme**"
      ],
      "metadata": {
        "id": "TnkNm5ICDzrA"
      }
    },
    {
      "cell_type": "code",
      "source": [
        "import seaborn as sns\n",
        "import matplotlib.pyplot as plt \n",
        "import pandas.util.testing as tm\n",
        "g = sns.FacetGrid(PTS, col =\"Pos\")\n",
        "g.map(plt.hist, \"PTS\");"
      ],
      "metadata": {
        "id": "07arnQLVEHA7"
      },
      "execution_count": null,
      "outputs": []
    },
    {
      "cell_type": "markdown",
      "source": [
        "**Kutu Grafiği (Box Plots)**"
      ],
      "metadata": {
        "id": "Svcz0BXIHpPA"
      }
    },
    {
      "cell_type": "markdown",
      "source": [
        "Tanımlayıcı istatistiklerde, bir kutu grafiği, açıklayıcı veri analizinde sıklıkla kullanılan bir grafik türüdür. Kutu grafikleri, çeyrekleri(yüzdelikleri) ve ortalamaları görüntüleyerek sayısal verilerin ve çarpıklığın dağılımını görsel olarak gösterir."
      ],
      "metadata": {
        "id": "hT0IF4O9IV_B"
      }
    },
    {
      "cell_type": "markdown",
      "source": [
        "Pozisyona göre gruplandırılmış puanların (PTS) kutu grafiği"
      ],
      "metadata": {
        "id": "wK-3lsl8JHKk"
      }
    },
    {
      "cell_type": "code",
      "source": [
        "PTS.boxplot(column='PTS') # birleştirilmiş kutu grafiğini gösterir.\n",
        "PTS.boxplot(column='PTS', by = 'Pos') # ayrı ayrı kutu grafiğini görüntüler."
      ],
      "metadata": {
        "id": "7urqaoqZJKc-"
      },
      "execution_count": null,
      "outputs": []
    },
    {
      "cell_type": "markdown",
      "source": [
        "**Seaborn data visualization**"
      ],
      "metadata": {
        "id": "5rKuqjIDKt8e"
      }
    },
    {
      "cell_type": "code",
      "source": [
        "import seaborn as sns\n",
        "\n",
        "sns.boxplot(x = 'Pos', y = 'PTS', data = PTS)"
      ],
      "metadata": {
        "id": "rv_BowByK2PT"
      },
      "execution_count": null,
      "outputs": []
    },
    {
      "cell_type": "code",
      "source": [
        "sns.boxplot(x ='Pos', y = 'PTS', data = PTS)\n",
        "sns.stripplot(x = 'Pos', y = 'PTS', data = PTS,\n",
        "              jitter=True,\n",
        "              marker='o',\n",
        "              alpha=0.8,\n",
        "              color=\"aqua\")"
      ],
      "metadata": {
        "id": "FatK7viiLWlC"
      },
      "execution_count": null,
      "outputs": []
    },
    {
      "cell_type": "markdown",
      "source": [
        "**Heat Map (Isı Haritası)**"
      ],
      "metadata": {
        "id": "tDGZuT4-MsEQ"
      }
    },
    {
      "cell_type": "markdown",
      "source": [
        "Korelasyon matrisi hesaplanır. \n",
        "\n",
        "Korelasyon, olasılık kuramı ve istatistikte iki rassal değişken arasındaki doğrusal ilişkinin yönünü ve gücünü belirtir. Genel istatistiksel kullanımda korelasyon, bağımsızlık durumundan ne kadar uzaklaşıldığını gösterir. Farklı durumlar için farklı korelasyon katsayıları geliştirilmiştir. -1 ile +1 arasında değer alır."
      ],
      "metadata": {
        "id": "lLg31l09M-1P"
      }
    },
    {
      "cell_type": "code",
      "source": [
        "corr = df.corr()\n",
        "corr"
      ],
      "metadata": {
        "id": "CmKXxryMM5Zq"
      },
      "execution_count": null,
      "outputs": []
    },
    {
      "cell_type": "code",
      "source": [
        "sns.heatmap(corr)"
      ],
      "metadata": {
        "id": "fq9T9elUQ5tq"
      },
      "execution_count": null,
      "outputs": []
    },
    {
      "cell_type": "code",
      "source": [
        "import seaborn as sns\n",
        "import matplotlib.pyplot as plt\n",
        "\n",
        "fig, ax = plt.subplots(figsize = (7,5))\n",
        "sns.heatmap(corr, square = True)"
      ],
      "metadata": {
        "id": "ex0lOMBFRfwJ"
      },
      "execution_count": null,
      "outputs": []
    },
    {
      "cell_type": "markdown",
      "source": [
        "Isı Haritasının yarısını çapraz olarak gizleyebiliriz. Buna da çapraz korelasyon matrisi denir. (Diagonal Correlation Matrix) \n"
      ],
      "metadata": {
        "id": "7X0vd4PaUQHw"
      }
    },
    {
      "cell_type": "code",
      "source": [
        "import numpy as np\n",
        "import seaborn as sns \n",
        "\n",
        "mask = np.zeros_like(corr)\n",
        "mask[np.triu_indices_from(mask) ] = True\n",
        "with sns.axes_style(\"white\"): # maskelenen kısımı beyaza boyandı.\n",
        "  f, ax = plt.subplots(figsize=(7, 5))\n",
        "  ax = sns.heatmap(corr, mask = mask, vmax=1, square = True)"
      ],
      "metadata": {
        "id": "pHLBqIyPUDeX"
      },
      "execution_count": null,
      "outputs": []
    },
    {
      "cell_type": "markdown",
      "source": [
        "Scatter Plot (Saçılım Grafiği)"
      ],
      "metadata": {
        "id": "gOJ2fdHZWkYC"
      }
    },
    {
      "cell_type": "markdown",
      "source": [
        "Dağılım grafiklerinin birincil kullanımları, iki sayısal değişken arasındaki ilişkileri gözlemlemek ve göstermektir. Bir dağılım grafiğindeki noktalar, yalnızca tek tek veri noktalarının değerlerini bildirmekle kalmaz, aynı zamanda veriler bir bütün olarak alındığında kalıpları da bildirir."
      ],
      "metadata": {
        "id": "4WxZGniyX_HR"
      }
    },
    {
      "cell_type": "code",
      "source": [
        "df"
      ],
      "metadata": {
        "id": "9zvCgN0zWhUc"
      },
      "execution_count": null,
      "outputs": []
    },
    {
      "cell_type": "code",
      "source": [
        "df.select_dtypes(include = ['number']) \n"
      ],
      "metadata": {
        "id": "D0gCIMyMYgjr"
      },
      "execution_count": null,
      "outputs": []
    },
    {
      "cell_type": "markdown",
      "source": [
        "Dizin numarasına göre ilk 5 sütunu seçelim. "
      ],
      "metadata": {
        "id": "D2g5IFLeZNQP"
      }
    },
    {
      "cell_type": "code",
      "source": [
        "number = df.select_dtypes(include = ['number'])"
      ],
      "metadata": {
        "id": "h36RiEBuZM4H"
      },
      "execution_count": null,
      "outputs": []
    },
    {
      "cell_type": "code",
      "source": [
        "number.iloc[:,:5] # .iloc[] komutu pozisyona göre seçim için tamamen tamsayı-konuma dayalı indekslemeyi sağlar."
      ],
      "metadata": {
        "id": "pt2M3ojPcKI-"
      },
      "execution_count": null,
      "outputs": []
    },
    {
      "cell_type": "markdown",
      "source": [
        "Belirtilen 5 sütunu seçme işlemi \n"
      ],
      "metadata": {
        "id": "n6GvGXq2czft"
      }
    },
    {
      "cell_type": "code",
      "source": [
        "selections = ['Age', 'G', 'STL', 'BLK', 'AST', 'PTS']\n",
        "df5 = df[selections]\n",
        "df5"
      ],
      "metadata": {
        "id": "eKR3ASaccu_j"
      },
      "execution_count": null,
      "outputs": []
    },
    {
      "cell_type": "markdown",
      "source": [
        "Oluşturduğumuz 5 sütun için hepsini birlikte görüntüleyebileceğimiz saçılım grafiklerini oluşturalım."
      ],
      "metadata": {
        "id": "WF0MdUJteGH4"
      }
    },
    {
      "cell_type": "code",
      "source": [
        "import seaborn as sns\n",
        "\n",
        "g = sns.PairGrid(df5)\n",
        "g.map(plt.scatter);"
      ],
      "metadata": {
        "id": "ChJvnGTSeR-f"
      },
      "execution_count": null,
      "outputs": []
    },
    {
      "cell_type": "markdown",
      "source": [
        "Tüm sütunları birlikte görüntülemek analiz yapmayı zorlaştıracaktır. Ancak yine de görüntülemekte fayda vardır. "
      ],
      "metadata": {
        "id": "0OxTViLYe-Rq"
      }
    },
    {
      "cell_type": "code",
      "source": [
        "import seaborn as sns\n",
        "\n",
        "g = sns.PairGrid(number)\n",
        "g.map(plt.scatter)"
      ],
      "metadata": {
        "id": "ngzwqc_XgD1O"
      },
      "execution_count": null,
      "outputs": []
    }
  ]
}